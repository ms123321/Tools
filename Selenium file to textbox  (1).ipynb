{
 "cells": [
  {
   "cell_type": "code",
   "execution_count": 7,
   "id": "e951b5f8",
   "metadata": {},
   "outputs": [
    {
     "ename": "InvalidArgumentException",
     "evalue": "Message: invalid argument\n  (Session info: chrome=109.0.5414.74)\nStacktrace:\nBacktrace:\n\t(No symbol) [0x00CA6643]\n\t(No symbol) [0x00C3BE21]\n\t(No symbol) [0x00B3D960]\n\t(No symbol) [0x00B2F941]\n\t(No symbol) [0x00B2DE7E]\n\t(No symbol) [0x00B2E512]\n\t(No symbol) [0x00B3F75B]\n\t(No symbol) [0x00BA7727]\n\t(No symbol) [0x00B8FD7C]\n\t(No symbol) [0x00BA6B09]\n\t(No symbol) [0x00B8FB76]\n\t(No symbol) [0x00B649C1]\n\t(No symbol) [0x00B65E5D]\n\tGetHandleVerifier [0x00F1A142+2497106]\n\tGetHandleVerifier [0x00F485D3+2686691]\n\tGetHandleVerifier [0x00F4BB9C+2700460]\n\tGetHandleVerifier [0x00D53B10+635936]\n\t(No symbol) [0x00C44A1F]\n\t(No symbol) [0x00C4A418]\n\t(No symbol) [0x00C4A505]\n\t(No symbol) [0x00C5508B]\n\tBaseThreadInitThunk [0x75F16BD9+25]\n\tRtlGetFullPathName_UEx [0x77718FD2+1218]\n\tRtlGetFullPathName_UEx [0x77718F9D+1165]\n",
     "output_type": "error",
     "traceback": [
      "\u001b[1;31m---------------------------------------------------------------------------\u001b[0m",
      "\u001b[1;31mInvalidArgumentException\u001b[0m                  Traceback (most recent call last)",
      "\u001b[1;32m~\\AppData\\Local\\Temp/ipykernel_31368/3496012402.py\u001b[0m in \u001b[0;36m<module>\u001b[1;34m\u001b[0m\n\u001b[0;32m     25\u001b[0m     \u001b[1;32mfor\u001b[0m \u001b[0mi\u001b[0m \u001b[1;32min\u001b[0m \u001b[0mrange\u001b[0m\u001b[1;33m(\u001b[0m\u001b[1;36m3\u001b[0m\u001b[1;33m)\u001b[0m\u001b[1;33m:\u001b[0m\u001b[1;33m\u001b[0m\u001b[1;33m\u001b[0m\u001b[0m\n\u001b[0;32m     26\u001b[0m     \u001b[1;31m# Navigate to the webform\u001b[0m\u001b[1;33m\u001b[0m\u001b[1;33m\u001b[0m\u001b[0m\n\u001b[1;32m---> 27\u001b[1;33m      \u001b[0mdriver\u001b[0m\u001b[1;33m.\u001b[0m\u001b[0mget\u001b[0m\u001b[1;33m(\u001b[0m\u001b[1;34m\"(URLHERE)\"\u001b[0m\u001b[1;33m)\u001b[0m\u001b[1;33m\u001b[0m\u001b[1;33m\u001b[0m\u001b[0m\n\u001b[0m\u001b[0;32m     28\u001b[0m \u001b[1;33m\u001b[0m\u001b[0m\n\u001b[0;32m     29\u001b[0m     \u001b[1;31m# Fill out the text boxes\u001b[0m\u001b[1;33m\u001b[0m\u001b[1;33m\u001b[0m\u001b[0m\n",
      "\u001b[1;32m~\\.conda\\envs\\tensorflow2\\lib\\site-packages\\selenium\\webdriver\\remote\\webdriver.py\u001b[0m in \u001b[0;36mget\u001b[1;34m(self, url)\u001b[0m\n\u001b[0;32m    453\u001b[0m         \u001b[0mLoads\u001b[0m \u001b[0ma\u001b[0m \u001b[0mweb\u001b[0m \u001b[0mpage\u001b[0m \u001b[1;32min\u001b[0m \u001b[0mthe\u001b[0m \u001b[0mcurrent\u001b[0m \u001b[0mbrowser\u001b[0m \u001b[0msession\u001b[0m\u001b[1;33m.\u001b[0m\u001b[1;33m\u001b[0m\u001b[1;33m\u001b[0m\u001b[0m\n\u001b[0;32m    454\u001b[0m         \"\"\"\n\u001b[1;32m--> 455\u001b[1;33m         \u001b[0mself\u001b[0m\u001b[1;33m.\u001b[0m\u001b[0mexecute\u001b[0m\u001b[1;33m(\u001b[0m\u001b[0mCommand\u001b[0m\u001b[1;33m.\u001b[0m\u001b[0mGET\u001b[0m\u001b[1;33m,\u001b[0m \u001b[1;33m{\u001b[0m\u001b[1;34m\"url\"\u001b[0m\u001b[1;33m:\u001b[0m \u001b[0murl\u001b[0m\u001b[1;33m}\u001b[0m\u001b[1;33m)\u001b[0m\u001b[1;33m\u001b[0m\u001b[1;33m\u001b[0m\u001b[0m\n\u001b[0m\u001b[0;32m    456\u001b[0m \u001b[1;33m\u001b[0m\u001b[0m\n\u001b[0;32m    457\u001b[0m     \u001b[1;33m@\u001b[0m\u001b[0mproperty\u001b[0m\u001b[1;33m\u001b[0m\u001b[1;33m\u001b[0m\u001b[0m\n",
      "\u001b[1;32m~\\.conda\\envs\\tensorflow2\\lib\\site-packages\\selenium\\webdriver\\remote\\webdriver.py\u001b[0m in \u001b[0;36mexecute\u001b[1;34m(self, driver_command, params)\u001b[0m\n\u001b[0;32m    442\u001b[0m         \u001b[0mresponse\u001b[0m \u001b[1;33m=\u001b[0m \u001b[0mself\u001b[0m\u001b[1;33m.\u001b[0m\u001b[0mcommand_executor\u001b[0m\u001b[1;33m.\u001b[0m\u001b[0mexecute\u001b[0m\u001b[1;33m(\u001b[0m\u001b[0mdriver_command\u001b[0m\u001b[1;33m,\u001b[0m \u001b[0mparams\u001b[0m\u001b[1;33m)\u001b[0m\u001b[1;33m\u001b[0m\u001b[1;33m\u001b[0m\u001b[0m\n\u001b[0;32m    443\u001b[0m         \u001b[1;32mif\u001b[0m \u001b[0mresponse\u001b[0m\u001b[1;33m:\u001b[0m\u001b[1;33m\u001b[0m\u001b[1;33m\u001b[0m\u001b[0m\n\u001b[1;32m--> 444\u001b[1;33m             \u001b[0mself\u001b[0m\u001b[1;33m.\u001b[0m\u001b[0merror_handler\u001b[0m\u001b[1;33m.\u001b[0m\u001b[0mcheck_response\u001b[0m\u001b[1;33m(\u001b[0m\u001b[0mresponse\u001b[0m\u001b[1;33m)\u001b[0m\u001b[1;33m\u001b[0m\u001b[1;33m\u001b[0m\u001b[0m\n\u001b[0m\u001b[0;32m    445\u001b[0m             \u001b[0mresponse\u001b[0m\u001b[1;33m[\u001b[0m\u001b[1;34m\"value\"\u001b[0m\u001b[1;33m]\u001b[0m \u001b[1;33m=\u001b[0m \u001b[0mself\u001b[0m\u001b[1;33m.\u001b[0m\u001b[0m_unwrap_value\u001b[0m\u001b[1;33m(\u001b[0m\u001b[0mresponse\u001b[0m\u001b[1;33m.\u001b[0m\u001b[0mget\u001b[0m\u001b[1;33m(\u001b[0m\u001b[1;34m\"value\"\u001b[0m\u001b[1;33m,\u001b[0m \u001b[1;32mNone\u001b[0m\u001b[1;33m)\u001b[0m\u001b[1;33m)\u001b[0m\u001b[1;33m\u001b[0m\u001b[1;33m\u001b[0m\u001b[0m\n\u001b[0;32m    446\u001b[0m             \u001b[1;32mreturn\u001b[0m \u001b[0mresponse\u001b[0m\u001b[1;33m\u001b[0m\u001b[1;33m\u001b[0m\u001b[0m\n",
      "\u001b[1;32m~\\.conda\\envs\\tensorflow2\\lib\\site-packages\\selenium\\webdriver\\remote\\errorhandler.py\u001b[0m in \u001b[0;36mcheck_response\u001b[1;34m(self, response)\u001b[0m\n\u001b[0;32m    247\u001b[0m                 \u001b[0malert_text\u001b[0m \u001b[1;33m=\u001b[0m \u001b[0mvalue\u001b[0m\u001b[1;33m[\u001b[0m\u001b[1;34m\"alert\"\u001b[0m\u001b[1;33m]\u001b[0m\u001b[1;33m.\u001b[0m\u001b[0mget\u001b[0m\u001b[1;33m(\u001b[0m\u001b[1;34m\"text\"\u001b[0m\u001b[1;33m)\u001b[0m\u001b[1;33m\u001b[0m\u001b[1;33m\u001b[0m\u001b[0m\n\u001b[0;32m    248\u001b[0m             \u001b[1;32mraise\u001b[0m \u001b[0mexception_class\u001b[0m\u001b[1;33m(\u001b[0m\u001b[0mmessage\u001b[0m\u001b[1;33m,\u001b[0m \u001b[0mscreen\u001b[0m\u001b[1;33m,\u001b[0m \u001b[0mstacktrace\u001b[0m\u001b[1;33m,\u001b[0m \u001b[0malert_text\u001b[0m\u001b[1;33m)\u001b[0m  \u001b[1;31m# type: ignore[call-arg]  # mypy is not smart enough here\u001b[0m\u001b[1;33m\u001b[0m\u001b[1;33m\u001b[0m\u001b[0m\n\u001b[1;32m--> 249\u001b[1;33m         \u001b[1;32mraise\u001b[0m \u001b[0mexception_class\u001b[0m\u001b[1;33m(\u001b[0m\u001b[0mmessage\u001b[0m\u001b[1;33m,\u001b[0m \u001b[0mscreen\u001b[0m\u001b[1;33m,\u001b[0m \u001b[0mstacktrace\u001b[0m\u001b[1;33m)\u001b[0m\u001b[1;33m\u001b[0m\u001b[1;33m\u001b[0m\u001b[0m\n\u001b[0m",
      "\u001b[1;31mInvalidArgumentException\u001b[0m: Message: invalid argument\n  (Session info: chrome=109.0.5414.74)\nStacktrace:\nBacktrace:\n\t(No symbol) [0x00CA6643]\n\t(No symbol) [0x00C3BE21]\n\t(No symbol) [0x00B3D960]\n\t(No symbol) [0x00B2F941]\n\t(No symbol) [0x00B2DE7E]\n\t(No symbol) [0x00B2E512]\n\t(No symbol) [0x00B3F75B]\n\t(No symbol) [0x00BA7727]\n\t(No symbol) [0x00B8FD7C]\n\t(No symbol) [0x00BA6B09]\n\t(No symbol) [0x00B8FB76]\n\t(No symbol) [0x00B649C1]\n\t(No symbol) [0x00B65E5D]\n\tGetHandleVerifier [0x00F1A142+2497106]\n\tGetHandleVerifier [0x00F485D3+2686691]\n\tGetHandleVerifier [0x00F4BB9C+2700460]\n\tGetHandleVerifier [0x00D53B10+635936]\n\t(No symbol) [0x00C44A1F]\n\t(No symbol) [0x00C4A418]\n\t(No symbol) [0x00C4A505]\n\t(No symbol) [0x00C5508B]\n\tBaseThreadInitThunk [0x75F16BD9+25]\n\tRtlGetFullPathName_UEx [0x77718FD2+1218]\n\tRtlGetFullPathName_UEx [0x77718F9D+1165]\n"
     ]
    }
   ],
   "source": [
    "#to get the Xpaths for a new page , inspect the element ,ie the text box , submit button , drop down menu , etc\n",
    "# the else function may need to be changed it may not be sending message3 without a manual click\n",
    "#\n",
    "\n",
    "#this program submits text from files into text forms using selenium \n",
    "# It is a general template\n",
    "from selenium import webdriver\n",
    "from selenium.webdriver.support.ui import Select\n",
    "import time\n",
    "from selenium.webdriver.common.action_chains import ActionChains\n",
    "import textwrap\n",
    "from selenium.webdriver.common.by import By\n",
    "from selenium.webdriver.support.ui import WebDriverWait\n",
    "\n",
    "from selenium.webdriver.support import expected_conditions as EC\n",
    "\n",
    "# Set up the webdriver\n",
    "driver = webdriver.Chrome()\n",
    "\n",
    "#text = \"  \" \n",
    "#text_two = \" \" \n",
    "#text_three = \" \" \n",
    "\n",
    "while True:\n",
    "    for i in range(3):\n",
    "    # Navigate to the webform\n",
    "     driver.get(\"(URLHERE)\")\n",
    "\n",
    "    # Fill out the text boxes\n",
    "        \n",
    "     driver.find_element(By.XPATH ,'XPATH HERE').send_keys(\"TEXT TO SEND HERE\")\n",
    "     driver.find_element(By.XPATH , 'XPATH HERE ').send_keys(\"TEXT TO SEND SUCH AS EMAIl ,NAME HERE \") \n",
    "        \n",
    "        #what you send depends on the element selected from the xpath , you inspect the page over a text box , button , or other \n",
    "        #use that to get the xpath , then put the information you want to send in the \"send keys\" () \n",
    "     # Select the dropdown menu\n",
    "     select = Select(driver.find_element(By.XPATH, '(PUT DOWN DROWN XPATH HERE)'))\n",
    "     select.select_by_visible_text(\"SELECT WHICH TEXT TO PICK ON DROPDOWN HERE (PUT THE NAME)\")\n",
    "#put the xpath for the dropdown menu\n",
    "#then use the select by visible text to pick the option - put the option you want to select in the (\"select which text to pick on dropdown (put the name)\") \n",
    "\n",
    "    \n",
    "     if i == 0:\n",
    "            with open('message1.txt', 'r') as file:\n",
    "                message = file.read()\n",
    "                wrapped_text = textwrap.fill(message, width=80)\n",
    "                driver.find_element(By.XPATH ,'PUT XPATH TO TEXTBOX HERE').send_keys(wrapped_text)\n",
    "     elif i == 1:\n",
    "            with open('message2.txt', 'r') as file:\n",
    "                message = file.read()\n",
    "                wrapped_text = textwrap.fill(message, width=80)\n",
    "                driver.find_element(By.XPATH ,'PUT XPATH TO TEXTBOX HERE').send_keys(wrapped_text)\n",
    "     else:\n",
    "            with open('message3.txt', 'r') as file:\n",
    "                message = file.read()\n",
    "                wrapped_text = textwrap.fill(message, width=80)\n",
    "                driver.find_element(By.XPATH ,'PUT XPATH TO TEXTBOX HERE').send_keys(wrapped_text)\n",
    "\n",
    "#This part uses a file system to past text from a file into a text box\n",
    "#put the correct xpath where indicated from inpsecting the page and copying the xpath from the text box\n",
    "# make sure your file is in the right path with the text to press\n",
    "\n",
    "                \n",
    "        # Submit the form\n",
    "     driver.find_element(By.XPATH ,'PUT XPATH TO SUBMIT BUTTON HERE').click()\n",
    "    \n",
    "    #put the xpath for the submission button here \n",
    "    \n",
    "        # Wait for 5 seconds between submissions\n",
    "     time.sleep(5)\n",
    "    # Wait for an hour\n",
    "    time.sleep(3600)"
   ]
  },
  {
   "cell_type": "code",
   "execution_count": 12,
   "id": "9675054a",
   "metadata": {},
   "outputs": [
    {
     "name": "stderr",
     "output_type": "stream",
     "text": [
      "fatal: remote origin already exists.\n"
     ]
    }
   ],
   "source": [
    "!git remote add origin https://github.com/ms123321/Tools.git"
   ]
  },
  {
   "cell_type": "code",
   "execution_count": null,
   "id": "959a50b3",
   "metadata": {},
   "outputs": [],
   "source": []
  },
  {
   "cell_type": "code",
   "execution_count": null,
   "id": "7bf10b65",
   "metadata": {},
   "outputs": [],
   "source": []
  }
 ],
 "metadata": {
  "kernelspec": {
   "display_name": "Python 3 (ipykernel)",
   "language": "python",
   "name": "python3"
  },
  "language_info": {
   "codemirror_mode": {
    "name": "ipython",
    "version": 3
   },
   "file_extension": ".py",
   "mimetype": "text/x-python",
   "name": "python",
   "nbconvert_exporter": "python",
   "pygments_lexer": "ipython3",
   "version": "3.9.7"
  }
 },
 "nbformat": 4,
 "nbformat_minor": 5
}
